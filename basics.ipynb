{
 "cells": [
  {
   "cell_type": "code",
   "execution_count": null,
   "metadata": {},
   "outputs": [],
   "source": [
    "print('Welcome to Python')"
   ]
  },
  {
   "cell_type": "markdown",
   "metadata": {},
   "source": [
    "1. <a href='#variables'>Variables</a>\n",
    "2. <a href='#statements'>Statements</a>\n",
    "3. <a href='#operators'>Operators</a>\n",
    "4. <a href='#statements'>Statements</a>"
   ]
  },
  {
   "cell_type": "markdown",
   "metadata": {},
   "source": [
    "## <a id='statements'>Statements</a>\n",
    "- Python statements are logical instructions that interpreters can read and execute.\n",
    "- It can be both single and multiline.\n",
    "\n",
    "There are two categories of statements in Python:\n",
    "\n",
    "1. Expression Statements\n",
    "2. Assignment Statements"
   ]
  },
  {
   "cell_type": "markdown",
   "metadata": {},
   "source": [
    "## Expression Statement:\n",
    "With the help of expressions, we perform basic arithmatic and logical operations like addition, subtraction, concentration, comparison etc.  \n",
    "\n",
    "**Expression Statement** is a statement that returns a value.  \n",
    "An expression always appears on the right side of an assignment  \n",
    "An expression can also used as a parameter to a method call (we will see in later lessons).\n"
   ]
  },
  {
   "cell_type": "markdown",
   "metadata": {},
   "source": [
    "### Using simple arithmetic expression:\n",
    "Example 0"
   ]
  },
  {
   "cell_type": "code",
   "execution_count": null,
   "metadata": {},
   "outputs": [],
   "source": [
    "(1+5) * 3"
   ]
  },
  {
   "cell_type": "markdown",
   "metadata": {},
   "source": [
    "## Assignment Statements\n",
    "In Python assignment statements are used for\n",
    "- creating new variables\n",
    "- assign and change values\n",
    "\n",
    "### Structure of an assignment statement  \n",
    "syntax:  \n",
    "**#LHS <=> RHS**  \n",
    "**variable = expression**  \n",
    "\n",
    "Assignment statements are of three primary categories  \n",
    "_(based on what’s on the Right-Hand Side of the statement)_.\n",
    "\n",
    "1. Value-Based Expression on RHS\n",
    "2. Current Variable on RHS\n",
    "3. Operation on RHS"
   ]
  },
  {
   "cell_type": "markdown",
   "metadata": {},
   "source": [
    "### Value-Based Expression on the RHS:\n",
    "Python creates a new variable and allocates a new memory location to the newly assigned variable.  \n",
    "\n",
    "For example  \n",
    "First, let’s create a string and assign it to a variable “name”,  \n",
    "Then, we will check the memory location id python has assigned for the variable"
   ]
  },
  {
   "cell_type": "markdown",
   "metadata": {},
   "source": [
    "Example 1.1"
   ]
  },
  {
   "cell_type": "code",
   "execution_count": null,
   "metadata": {},
   "outputs": [],
   "source": [
    "name= \"Shashanka\"\n",
    "id(name)"
   ]
  },
  {
   "cell_type": "markdown",
   "metadata": {},
   "source": [
    "Example 1.2"
   ]
  },
  {
   "cell_type": "code",
   "execution_count": null,
   "metadata": {},
   "outputs": [],
   "source": [
    "myname = \"Shashanka\"\n",
    "id(myname)"
   ]
  },
  {
   "cell_type": "markdown",
   "metadata": {},
   "source": [
    "We have assigned the same string to two different variables in example 1.1 and 1.2.  \n",
    "But python allocated the same memory location for both the variables.  \n",
    "That is because:  \n",
    "Python allocates the same memory location for the two cases mentioned below:\n",
    "- If the strings with less than 20 characters that don’t have white spaces and\n",
    "- Integers ranging between (-5 to +255).  \n",
    "\n",
    "This concept used by Python to save memory is also called Interning."
   ]
  },
  {
   "cell_type": "markdown",
   "metadata": {},
   "source": [
    "### Current Python variable on RHS:\n",
    "Python creates a new variable but doesn’t allocate a new memory location new variable.  \n",
    "It will just assign the location of the **assigned variable** to the new variable."
   ]
  },
  {
   "cell_type": "markdown",
   "metadata": {},
   "source": [
    "Example 2"
   ]
  },
  {
   "cell_type": "code",
   "execution_count": null,
   "metadata": {},
   "outputs": [],
   "source": [
    "current_year= \"2021\"\n",
    "new_year = \"2022\"\n",
    "print(id(current_year))\n",
    "print(id(new_year))\n",
    "prev_year= current_year\n",
    "print(id(prev_year))\n"
   ]
  },
  {
   "cell_type": "markdown",
   "metadata": {},
   "source": [
    "Here the same location id allotted for the variables **'current_year'** and **'prev_year'**   \n",
    "But allocated new location for variable **'new_year'**"
   ]
  },
  {
   "cell_type": "markdown",
   "metadata": {},
   "source": [
    "### Operation on RHS:\n",
    "In this category, we have an operation on the right side of the statement.  \n",
    "The statement on right side is executed first then a new variable is created  \n",
    "and the evaluated value will get assigned to the new variable"
   ]
  },
  {
   "cell_type": "markdown",
   "metadata": {},
   "source": [
    "Example 3.1"
   ]
  },
  {
   "cell_type": "code",
   "execution_count": null,
   "metadata": {},
   "outputs": [],
   "source": [
    "var_one= 7 * 2\n",
    "type(var_one)"
   ]
  },
  {
   "cell_type": "markdown",
   "metadata": {},
   "source": [
    "Example 3.2"
   ]
  },
  {
   "cell_type": "code",
   "execution_count": null,
   "metadata": {},
   "outputs": [],
   "source": [
    "var_two= 7 * 2 / 10\n",
    "type(var_two)"
   ]
  },
  {
   "cell_type": "markdown",
   "metadata": {},
   "source": [
    "Here the statement on the right side is the defining factor of the type of variable.  \n",
    "In example 3.1 the operation gives an integer data resulting the type of variable as 'int' type  \n",
    "and In example 3.2 type of variable as 'float' type"
   ]
  },
  {
   "cell_type": "markdown",
   "metadata": {},
   "source": [
    "### Multiline statements\n",
    "There are two ways to define multiline statements.\n",
    "\n",
    "- Implicit Method\n",
    "- Explicit Method\n",
    "The end of a statement in python is considered as a newline character,  \n",
    "to extend the statements over multiple lines we can use two methods."
   ]
  },
  {
   "cell_type": "markdown",
   "metadata": {},
   "source": [
    "Implicit: By using parenthesis like (), {} or [].\n",
    "e.g."
   ]
  },
  {
   "cell_type": "markdown",
   "metadata": {},
   "source": [
    "Example 4.1"
   ]
  },
  {
   "cell_type": "code",
   "execution_count": null,
   "metadata": {},
   "outputs": [],
   "source": [
    "a = (0 + 1 + 2 + \n",
    "    3 + 4 + 5)\n",
    "print(a)"
   ]
  },
  {
   "cell_type": "markdown",
   "metadata": {},
   "source": [
    "Explicit: By using continuation character “\\”.\n"
   ]
  },
  {
   "cell_type": "markdown",
   "metadata": {},
   "source": [
    "Example 4.2"
   ]
  },
  {
   "cell_type": "code",
   "execution_count": null,
   "metadata": {},
   "outputs": [],
   "source": [
    "a = 0 + 1 + 2 + \\\n",
    "    3 + 4 + 5\n",
    "print(a)"
   ]
  },
  {
   "cell_type": "markdown",
   "metadata": {},
   "source": [
    "### Indentation\n",
    "Unlike most programming languages python uses indentation to mark a block of code.  \n",
    "According to python style guidelines , you should keep an indent size of four.\n",
    "\n",
    "Most of the programming languages provide indentation for better code formatting and don’t enforce to have it.  \n",
    "But in Python it is **mandatory**.  \n",
    "This is why indentation is so important in Python.\n",
    "\n",
    "*(we will discuss about indetation later)*"
   ]
  },
  {
   "cell_type": "markdown",
   "metadata": {},
   "source": [
    "### Comments\n",
    "Comments are tagged lines of in codes which increases the readability of the code and make the code self-explanatory.   Comments can be of two categories:\n",
    "\n",
    "1. **Single-line comments:**  \n",
    "    With the help of one ‘#’, we begin a single-line comment\n",
    "2. **Multi-line comments:**  \n",
    "With the help of ‘‘‘… ’’’ we write multiline comments in python."
   ]
  },
  {
   "cell_type": "markdown",
   "metadata": {},
   "source": [
    "Example 5.1"
   ]
  },
  {
   "cell_type": "code",
   "execution_count": null,
   "metadata": {},
   "outputs": [],
   "source": [
    "result= 7 * 2\n",
    "type(result)\n",
    "#Single-line comment"
   ]
  },
  {
   "cell_type": "markdown",
   "metadata": {},
   "source": [
    "Example 5.2"
   ]
  },
  {
   "cell_type": "code",
   "execution_count": null,
   "metadata": {},
   "outputs": [],
   "source": [
    "test1= 7 * 2 / 10\n",
    "\n",
    "'''\n",
    "line one\n",
    "line two\n",
    "line three\n",
    "'''\n",
    "type(test1)"
   ]
  },
  {
   "cell_type": "markdown",
   "metadata": {},
   "source": [
    "### Variables\n",
    "- A variable is a memory address that can change and when a memory address cannot change then it is known as constant.  \n",
    "- Variable is the name of the memory location where data is stored.  \n",
    "- Once a variable is stored then space is allocated in memory.  \n",
    "- It defines a variable using a combination of numbers, letters, and the underscore character.\n"
   ]
  },
  {
   "cell_type": "markdown",
   "metadata": {},
   "source": [
    "#### Assigning Values to Variables\n",
    "- There is no need for an explicit declaration to reserve memory.\n",
    "- The assignment is done using the equal (=) operator."
   ]
  },
  {
   "cell_type": "markdown",
   "metadata": {},
   "source": [
    "Example 6.1"
   ]
  },
  {
   "cell_type": "code",
   "execution_count": null,
   "metadata": {},
   "outputs": [],
   "source": [
    "i = 1\n",
    "j = 2"
   ]
  },
  {
   "cell_type": "markdown",
   "metadata": {},
   "source": [
    " we can assign multiple values to the multiple variables as follows –\n"
   ]
  },
  {
   "cell_type": "markdown",
   "metadata": {},
   "source": [
    "Example 6.2"
   ]
  },
  {
   "cell_type": "code",
   "execution_count": null,
   "metadata": {},
   "outputs": [],
   "source": [
    "a, b, c = 2, 25, \"abc\"\n",
    "print(a, b, c)"
   ]
  },
  {
   "cell_type": "markdown",
   "metadata": {},
   "source": [
    "### Python is a type inferred language\n",
    "\n",
    "- it automatically detects the type of assigned variable.\n",
    "- no need for an explicit declaration to reserve memory."
   ]
  },
  {
   "cell_type": "markdown",
   "metadata": {},
   "source": [
    "Example 6.3"
   ]
  },
  {
   "cell_type": "code",
   "execution_count": null,
   "metadata": {},
   "outputs": [],
   "source": [
    "test=1\n",
    "type(test)\n",
    "test1=\"String\"\n",
    "type(test1)"
   ]
  },
  {
   "cell_type": "markdown",
   "metadata": {},
   "source": [
    "### Constants\n",
    "Constant is a type of variable that holds values, whose value cannot be changed.  \n",
    "In reality, There are no constants in python.  \n",
    "Python itself does not support non-changing value assignments, in the way other languages that implement constants do.\n",
    "\n",
    "You cannot declare a variable or value as constant in Python. *Just don't change it.*\n"
   ]
  },
  {
   "cell_type": "markdown",
   "metadata": {},
   "source": [
    "Example 7"
   ]
  },
  {
   "cell_type": "code",
   "execution_count": null,
   "metadata": {},
   "outputs": [],
   "source": [
    "CONST_NAME = \"Name\"\n",
    "PI = 3.14\n",
    "GRAVITY = 9.8"
   ]
  },
  {
   "cell_type": "markdown",
   "metadata": {},
   "source": [
    "### Token\n",
    "Tokens are the smallest unit of the program.  \n",
    "\n",
    "There are the following tokens in Python:\n",
    "\n",
    "- Reserved words or Keywords\n",
    "- Identifiers\n",
    "- Literals\n",
    "- Operators"
   ]
  },
  {
   "cell_type": "markdown",
   "metadata": {},
   "source": [
    "![Token](./images/token.png)"
   ]
  },
  {
   "cell_type": "markdown",
   "metadata": {},
   "source": [
    "### Keywords\n",
    "Keywords are a set of special words, which are reserved by python and have specific meanings.  \n",
    "Remember that we are not allowed to use keywords as variables in python.  \n",
    "Keywords in python are **case sensitive**.  \n",
    "We’ve just captured here a snapshot of the possible Python keywords."
   ]
  },
  {
   "cell_type": "code",
   "execution_count": null,
   "metadata": {},
   "outputs": [],
   "source": [
    "import keyword\n",
    "print(keyword.kwlist)"
   ]
  },
  {
   "cell_type": "markdown",
   "metadata": {},
   "source": [
    "### Identifiers\n",
    "Identifiers in python are user-defined names to represent programmable entities like variables, functions, classes, modules or any other objects.  \n",
    "But there are a few rules that we need to follow while defining an identifier.  \n",
    "They are:\n",
    "\n",
    "- You can use a sequence of letters (lowercase (a to z) or uppercase (A to Z)).\n",
    "- You can also mix up digits (0 to 9) or an underscore (_) while defining an identifier.\n",
    "- You can’t use digits to begin an identifier name.\n",
    "- You should not use Reserved Keywords to define an identifier.\n",
    "- Other than underscore (_) you are not allowed to use any other special characters.\n",
    "- Even though python doc says that you can name an identifier with unlimited length.  \n",
    "But it is not entirely true( *not more than 79 chars*)."
   ]
  },
  {
   "cell_type": "markdown",
   "metadata": {},
   "source": [
    "### Literals\n",
    "The other built-in objects in python are Literals.  \n",
    "Literals can be defined as data that is given in a variable or constant.  \n",
    "Python has the following literals:\n",
    "\n",
    "#### String Literals\n",
    "A string literal is a sequence of characters surrounded by quotes.  \n",
    "We can use both single, double or triple quotes for a string. And,  \n",
    "a character literal is a single character surrounded by single or double-quotes.\n",
    "\n",
    "#### Numeric Literals:\n",
    "Numeric Literals are immutable (unchangeable).  \n",
    "Numeric literals can belong to 3 different numerical types \n",
    "- Integer\n",
    "- Float \n",
    "- Complex.\n",
    "\n",
    "#### Boolean Literals:\n",
    "A Boolean literal can have any of the two values: \n",
    "- True \n",
    "- False.\n",
    "\n",
    "#### Collection literals:\n",
    "There are four different literal collections \n",
    "- List literals\n",
    "- Tuple literals\n",
    "- Dict literals\n",
    "- Set literals. \n",
    "\n",
    "#### Special literals:\n",
    "Python contains one special literal i.e. None.  \n",
    "We use it to specify that field that is not created."
   ]
  },
  {
   "cell_type": "markdown",
   "metadata": {},
   "source": [
    "![Token](./images/literals.png)"
   ]
  },
  {
   "cell_type": "markdown",
   "metadata": {},
   "source": [
    "### Operators\n",
    "Operators are the symbols that perform the operation on some values.  \n",
    "These values are known as operands.  \n",
    "In Python, operators are categorized into the following categories:  \n",
    "\n",
    "- **Arithmetic Operators**\n",
    "- **Relational Operators**\n",
    "- **Assignment Operators**\n",
    "- **Logical Operators**\n",
    "- **Membership Operators**\n",
    "- **Identity Operators**\n",
    "- **Bitwise Operators**"
   ]
  },
  {
   "cell_type": "markdown",
   "metadata": {},
   "source": [
    "### Arithmetic Operators\n"
   ]
  },
  {
   "cell_type": "markdown",
   "metadata": {},
   "source": [
    "<div class=\"table-responsive\">\n",
    "<table class=\"table table-bordered\">\n",
    "<tbody>\n",
    "<tr>\n",
    "<td><strong>Operators</strong></td>\n",
    "<td><b>Operator Name</b></td>\n",
    "<td><b>Description</b></td>\n",
    "<td><b>Example</b></td>\n",
    "</tr>\n",
    "<tr>\n",
    "<td><b>+</b></td>\n",
    "<td><span style=\"font-weight: 400\">Addition</span></td>\n",
    "<td><span style=\"font-weight: 400\">Perform Addition</span></td>\n",
    "<td><span style=\"font-weight: 400\">I=40, J=20 </span><br>\n",
    "<span style=\"font-weight: 400\">&gt;&gt;&gt;I+ J </span><br>\n",
    "<span style=\"font-weight: 400\">&gt;&gt;&gt;</span><span style=\"font-weight: 400\">60</span></td>\n",
    "</tr>\n",
    "<tr>\n",
    "<td><b>–</b></td>\n",
    "<td><span style=\"font-weight: 400\">Subtraction</span></td>\n",
    "<td><span style=\"font-weight: 400\">Perform Subtraction</span></td>\n",
    "<td><span style=\"font-weight: 400\">I=40, J=20</span><br>\n",
    "<span style=\"font-weight: 400\">&gt;&gt;&gt;I – J </span><br>\n",
    "<span style=\"font-weight: 400\">&gt;&gt;&gt;</span><span style=\"font-weight: 400\">20</span></td>\n",
    "</tr>\n",
    "<tr>\n",
    "<td><b>*</b></td>\n",
    "<td><span style=\"font-weight: 400\">Multiplication</span></td>\n",
    "<td><span style=\"font-weight: 400\">Perform Multiplication</span></td>\n",
    "<td><span style=\"font-weight: 400\">I=40, J=20</span><br>\n",
    "<span style=\"font-weight: 400\">&gt;&gt;&gt;I * J </span><br>\n",
    "<span style=\"font-weight: 400\">&gt;&gt;&gt; </span><span style=\"font-weight: 400\">800</span></td>\n",
    "</tr>\n",
    "<tr>\n",
    "<td><b>/</b></td>\n",
    "<td><span style=\"font-weight: 400\">Division</span></td>\n",
    "<td><span style=\"font-weight: 400\">Perform Division</span></td>\n",
    "<td><span style=\"font-weight: 400\">I=30, J=20</span><br>\n",
    "<span style=\"font-weight: 400\">&gt;&gt;&gt;I /J </span><br>\n",
    "<span style=\"font-weight: 400\">&gt;&gt;&gt; </span><span style=\"font-weight: 400\">2.5</span></td>\n",
    "</tr>\n",
    "<tr>\n",
    "<td><b>%</b></td>\n",
    "<td><span style=\"font-weight: 400\">Modulus</span></td>\n",
    "<td><span style=\"font-weight: 400\">Return the remainder after Division</span></td>\n",
    "<td><span style=\"font-weight: 400\">I=40, J=20</span><br>\n",
    "<span style=\"font-weight: 400\">&gt;&gt;&gt;I /J </span><br>\n",
    "<span style=\"font-weight: 400\">&gt;&gt;&gt; </span><span style=\"font-weight: 400\">0</span></td>\n",
    "</tr>\n",
    "<tr>\n",
    "<td><b>**</b></td>\n",
    "<td><span style=\"font-weight: 400\">Exponent</span></td>\n",
    "<td><span style=\"font-weight: 400\">Performs exponential (power) calculation</span></td>\n",
    "<td><span style=\"font-weight: 400\">I=4, J=20</span><br>\n",
    "<span style=\"font-weight: 400\">&gt;&gt;&gt;I /J </span><br>\n",
    "<span style=\"font-weight: 400\">&gt;&gt;&gt; </span><span style=\"font-weight: 400\">20</span><span style=\"font-weight: 400\">4</span></td>\n",
    "</tr>\n",
    "<tr>\n",
    "<td><b>//</b></td>\n",
    "<td><span style=\"font-weight: 400\">Floor Division</span></td>\n",
    "<td><span style=\"font-weight: 400\">Perform division remove the decimal value and return Quotient value</span></td>\n",
    "<td><span style=\"font-weight: 400\">I=30, J=20</span><br>\n",
    "<span style=\"font-weight: 400\">&gt;&gt;&gt;I//J </span><br>\n",
    "<span style=\"font-weight: 400\">&gt;&gt;&gt;</span><span style=\"font-weight: 400\"> 1</span></td>\n",
    "</tr>\n",
    "</tbody>\n",
    "</table>\n",
    "</div>"
   ]
  },
  {
   "cell_type": "markdown",
   "metadata": {},
   "source": [
    "### Relational Operators\n",
    "\n",
    "It is also known as the comparison operator because it compares the values. After comparison, it returns the Boolean value i.e. either true or false."
   ]
  },
  {
   "cell_type": "markdown",
   "metadata": {},
   "source": [
    "<div class=\"table-responsive\">\n",
    "<table class=\"table table-bordered\">\n",
    "<tbody>\n",
    "<tr>\n",
    "<td><b>Operator</b></td>\n",
    "<td><b>Operator Name</b></td>\n",
    "<td><b>Description</b></td>\n",
    "<td><b>Example</b></td>\n",
    "</tr>\n",
    "<tr>\n",
    "<td><b>==</b></td>\n",
    "<td><span style=\"font-weight: 400\">Equal to</span></td>\n",
    "<td><span style=\"font-weight: 400\">If the values of two operands are equal, then then it returns true.</span></td>\n",
    "<td><span style=\"font-weight: 400\">I = 20, J = 20</span><br>\n",
    "<span style=\"font-weight: 400\">(I == J) is </span><span style=\"font-weight: 400\">True</span></td>\n",
    "</tr>\n",
    "<tr>\n",
    "<td><b>!=</b></td>\n",
    "<td><span style=\"font-weight: 400\">Not Equal to</span></td>\n",
    "<td><span style=\"font-weight: 400\">If the values of two operands are not equal, then it returns true.</span></td>\n",
    "<td><span style=\"font-weight: 400\">I = 20, J = 20</span><br>\n",
    "<span style=\"font-weight: 400\">(I == J) is </span><span style=\"font-weight: 400\">False</span></td>\n",
    "</tr>\n",
    "<tr>\n",
    "<td><b>&lt;&nbsp;</b></td>\n",
    "<td><span style=\"font-weight: 400\">Less than</span></td>\n",
    "<td><span style=\"font-weight: 400\">If the value of the left operand is less than the value of the right operand, then it returns true</span></td>\n",
    "<td><span style=\"font-weight: 400\">I = 40, J = 20</span><br>\n",
    "<span style=\"font-weight: 400\">(I &lt; J) is </span><span style=\"font-weight: 400\">False</span></td>\n",
    "</tr>\n",
    "<tr>\n",
    "<td><b>&gt;</b></td>\n",
    "<td><span style=\"font-weight: 400\">Greater than</span></td>\n",
    "<td><span style=\"font-weight: 400\">If the value of the left operand is greater than the value of the right operand, then it returns true</span></td>\n",
    "<td><span style=\"font-weight: 400\">I= 40, J = 20</span><br>\n",
    "<span style=\"font-weight: 400\">(I &gt; J) is </span><span style=\"font-weight: 400\">True</span></td>\n",
    "</tr>\n",
    "<tr>\n",
    "<td><b>&lt;=</b></td>\n",
    "<td><span style=\"font-weight: 400\">Less than or equal to</span></td>\n",
    "<td><span style=\"font-weight: 400\">If the value of the left operand is less than or equal to the value of the right operand, then it returns true</span></td>\n",
    "<td><span style=\"font-weight: 400\">I = 40, J = 20</span><br>\n",
    "<span style=\"font-weight: 400\">(I &lt;= J) is </span><span style=\"font-weight: 400\">False</span></td>\n",
    "</tr>\n",
    "<tr>\n",
    "<td><b>&gt;=</b></td>\n",
    "<td><span style=\"font-weight: 400\">Greater than or equal to</span></td>\n",
    "<td><span style=\"font-weight: 400\">If the value of the left operand is greater than or equal to the value of the right operand, then it returns true.</span></td>\n",
    "<td><span style=\"font-weight: 400\">I = 40, J = 20</span><br>\n",
    "<span style=\"font-weight: 400\">(I &gt;= J) is </span><span style=\"font-weight: 400\">True</span></td>\n",
    "</tr>\n",
    "<tr>\n",
    "<td><b>&lt;&gt;&nbsp;</b></td>\n",
    "<td><span style=\"font-weight: 400\">Not equal to (similar to !=)</span></td>\n",
    "<td><span style=\"font-weight: 400\">If the values of two operands are not equal, then the condition becomes true</span></td>\n",
    "<td><span style=\"font-weight: 400\">I=40, J = 20</span><br>\n",
    "<span style=\"font-weight: 400\">(I &lt;&gt; J) is </span><span style=\"font-weight: 400\">True</span><span style=\"font-weight: 400\">. </span></td>\n",
    "</tr>\n",
    "</tbody>\n",
    "</table>\n",
    "</div>"
   ]
  },
  {
   "cell_type": "markdown",
   "metadata": {},
   "source": [
    "### Assignment Operators\n"
   ]
  },
  {
   "cell_type": "markdown",
   "metadata": {},
   "source": [
    "<div class=\"table-responsive\">\n",
    "<table class=\"table table-bordered\">\n",
    "<tbody>\n",
    "<tr>\n",
    "<td><b>Operator</b></td>\n",
    "<td><b>Operator Name</b></td>\n",
    "<td><b>Description</b></td>\n",
    "<td><b>Example</b></td>\n",
    "</tr>\n",
    "<tr>\n",
    "<td><b>=</b></td>\n",
    "<td><span style=\"font-weight: 400\">Assignment</span></td>\n",
    "<td><span style=\"font-weight: 400\">It assigns a value from right side operand to left side operand</span></td>\n",
    "<td><span style=\"font-weight: 400\">I = 40</span><br>\n",
    "<span style=\"font-weight: 400\">It assigns 40 to I</span></td>\n",
    "</tr>\n",
    "<tr>\n",
    "<td><b>+=</b></td>\n",
    "<td><span style=\"font-weight: 400\">Add then assign</span></td>\n",
    "<td><span style=\"font-weight: 400\">It performs addition and then results is assigned to the left-hand operand</span></td>\n",
    "<td><span style=\"font-weight: 400\">I+=J </span><br>\n",
    "<span style=\"font-weight: 400\">that means I = I + J</span></td>\n",
    "</tr>\n",
    "<tr>\n",
    "<td><b>-=</b></td>\n",
    "<td><span style=\"font-weight: 400\">Subtract then assign</span></td>\n",
    "<td><span style=\"font-weight: 400\">It performs subtraction and then results is assigned to the left-hand operand</span></td>\n",
    "<td><span style=\"font-weight: 400\">I-=J </span><br>\n",
    "<span style=\"font-weight: 400\">that means I = I – J</span></td>\n",
    "</tr>\n",
    "<tr>\n",
    "<td><b>*=</b></td>\n",
    "<td><span style=\"font-weight: 400\">Multiply the assign</span></td>\n",
    "<td><span style=\"font-weight: 400\">It performs multiplication and then the results are assigned to the left-hand operand.</span></td>\n",
    "<td><span style=\"font-weight: 400\">I*=J </span><br>\n",
    "<span style=\"font-weight: 400\">that means I = I * J</span></td>\n",
    "</tr>\n",
    "<tr>\n",
    "<td><b>/=</b></td>\n",
    "<td><span style=\"font-weight: 400\">Divide then assign</span></td>\n",
    "<td><span style=\"font-weight: 400\">It performs division and then results is assigned to the left-hand operand</span></td>\n",
    "<td><span style=\"font-weight: 400\">I/=J </span><br>\n",
    "<span style=\"font-weight: 400\">that means I = I / J</span></td>\n",
    "</tr>\n",
    "<tr>\n",
    "<td><b>%=</b></td>\n",
    "<td><span style=\"font-weight: 400\">Modulus then assign</span></td>\n",
    "<td><span style=\"font-weight: 400\">It performs modulus and then results is assigned to the left-hand operand</span></td>\n",
    "<td><span style=\"font-weight: 400\">I%=J </span><br>\n",
    "<span style=\"font-weight: 400\">that means I = I % J</span></td>\n",
    "</tr>\n",
    "<tr>\n",
    "<td><b>**=</b></td>\n",
    "<td><span style=\"font-weight: 400\">Exponent then assign</span></td>\n",
    "<td><span style=\"font-weight: 400\">It performs exponent and then results is assigned to the left-hand operand</span></td>\n",
    "<td><span style=\"font-weight: 400\">I**=J </span><br>\n",
    "<span style=\"font-weight: 400\">that means I = I ** J</span></td>\n",
    "</tr>\n",
    "<tr>\n",
    "<td><b>//=</b></td>\n",
    "<td><span style=\"font-weight: 400\">The floor division then assign</span></td>\n",
    "<td><span style=\"font-weight: 400\">It performs floor division and then results is assigned to the left-hand operand</span></td>\n",
    "<td><span style=\"font-weight: 400\">I//=J </span><br>\n",
    "<span style=\"font-weight: 400\">that means I = I // J</span></td>\n",
    "</tr>\n",
    "</tbody>\n",
    "</table>\n",
    "</div>"
   ]
  },
  {
   "cell_type": "markdown",
   "metadata": {},
   "source": [
    "### Logical Operators\n"
   ]
  },
  {
   "cell_type": "markdown",
   "metadata": {},
   "source": [
    "<div class=\"table-responsive\">\n",
    "<table class=\"table table-bordered\">\n",
    "<tbody>\n",
    "<tr>\n",
    "<td><b>Operator</b></td>\n",
    "<td><b>Operator Name</b></td>\n",
    "<td><b>Description</b></td>\n",
    "<td><b>Example</b></td>\n",
    "</tr>\n",
    "<tr>\n",
    "<td><b>and</b></td>\n",
    "<td><span style=\"font-weight: 400\">Logical AND</span></td>\n",
    "<td><span style=\"font-weight: 400\">When Both side condition is true the result is true otherwise false</span></td>\n",
    "<td><span style=\"font-weight: 400\">2&lt;1 and 2&lt;3</span><br>\n",
    "<span style=\"font-weight: 400\">False</span></td>\n",
    "</tr>\n",
    "<tr>\n",
    "<td><b>or</b></td>\n",
    "<td><span style=\"font-weight: 400\">Logical OR</span></td>\n",
    "<td><span style=\"font-weight: 400\">When at least one condition is true then the result is true otherwise false</span></td>\n",
    "<td><span style=\"font-weight: 400\">2&lt;1 or 2&lt;3</span><br>\n",
    "<span style=\"font-weight: 400\">True</span></td>\n",
    "</tr>\n",
    "<tr>\n",
    "<td><b>not</b></td>\n",
    "<td><span style=\"font-weight: 400\">Logical NOT</span></td>\n",
    "<td><span style=\"font-weight: 400\">Reverse the condition</span></td>\n",
    "<td><span style=\"font-weight: 400\">Not (5&gt;4)</span><br>\n",
    "<span style=\"font-weight: 400\">False</span></td>\n",
    "</tr>\n",
    "</tbody>\n",
    "</table>\n",
    "</div>"
   ]
  },
  {
   "cell_type": "markdown",
   "metadata": {},
   "source": [
    "### Membership Operators"
   ]
  },
  {
   "cell_type": "markdown",
   "metadata": {},
   "source": [
    "<div class=\"table-responsive\">\n",
    "<table class=\"table table-bordered\">\n",
    "<tbody>\n",
    "<tr>\n",
    "<td><b>Operator</b></td>\n",
    "<td><b>Description</b></td>\n",
    "<td><b>Example</b></td>\n",
    "</tr>\n",
    "<tr>\n",
    "<td><b>in</b></td>\n",
    "<td><span style=\"font-weight: 400\">It returns true if it finds a variable in the sequence otherwise returns false</span></td>\n",
    "<td><span style=\"font-weight: 400\">List = [1,2,3,4,5,6,7,8]</span><br>\n",
    "<span style=\"font-weight: 400\">i=1</span><br>\n",
    "<span style=\"font-weight: 400\">if i in List:</span><br>\n",
    "<span style=\"font-weight: 400\"> &nbsp;&nbsp;&nbsp;print(‘i is available in list’)</span><br>\n",
    "<span style=\"font-weight: 400\">else:</span><br>\n",
    "<span style=\"font-weight: 400\"> &nbsp;&nbsp;&nbsp;print(‘i is not available in list’)</span><br>\n",
    "<span style=\"font-weight: 400\">Output</span><span style=\"font-weight: 400\"> – i is available in list</span></td>\n",
    "</tr>\n",
    "<tr>\n",
    "<td><b>not in</b></td>\n",
    "<td><span style=\"font-weight: 400\">It returns true if it does not find a variable in the sequence otherwise returns false</span></td>\n",
    "<td><span style=\"font-weight: 400\">List = [1,2,3,4,5,6,7,8]</span><br>\n",
    "<span style=\"font-weight: 400\">j=10</span><br>\n",
    "<span style=\"font-weight: 400\">if j not in List:</span><br>\n",
    "<span style=\"font-weight: 400\">print (‘j is not available in list’)</span><br>\n",
    "<span style=\"font-weight: 400\">else: </span><br>\n",
    "<span style=\"font-weight: 400\">print (‘j is available in list’)</span><br>\n",
    "<span style=\"font-weight: 400\">Output</span><span style=\"font-weight: 400\"> – j is not available in list</span></td>\n",
    "</tr>\n",
    "</tbody>\n",
    "</table>\n",
    "</div>"
   ]
  },
  {
   "cell_type": "markdown",
   "metadata": {},
   "source": [
    "### Bitwise Operators\n"
   ]
  },
  {
   "cell_type": "markdown",
   "metadata": {},
   "source": [
    "<div class=\"table-responsive\">\n",
    "<table class=\"table table-bordered\">\n",
    "<tbody>\n",
    "<tr>\n",
    "<td><b>Operator</b></td>\n",
    "<td><b>Operator Name</b></td>\n",
    "<td><b>Description</b></td>\n",
    "<td><b>Example</b></td>\n",
    "</tr>\n",
    "<tr>\n",
    "<td><b>&amp;</b></td>\n",
    "<td><span style=\"font-weight: 400\">Binary AND</span></td>\n",
    "<td><span style=\"font-weight: 400\">If both bits are 1 then 1 otherwise 0</span></td>\n",
    "<td><span style=\"font-weight: 400\">I &amp; J</span><br>\n",
    "<span style=\"font-weight: 400\">0000 0000</span></td>\n",
    "</tr>\n",
    "<tr>\n",
    "<td><b>|</b></td>\n",
    "<td><span style=\"font-weight: 400\">Binary OR</span></td>\n",
    "<td><span style=\"font-weight: 400\">If one of the bits is 1 then 1 otherwise 0</span></td>\n",
    "<td><span style=\"font-weight: 400\">I | J</span><br>\n",
    "<span style=\"font-weight: 400\">0001 1110</span></td>\n",
    "</tr>\n",
    "<tr>\n",
    "<td><b>^</b></td>\n",
    "<td><span style=\"font-weight: 400\">Binary XOR</span></td>\n",
    "<td><span style=\"font-weight: 400\">If both bits are same, then 0 otherwise 1</span></td>\n",
    "<td><span style=\"font-weight: 400\">I ^ J</span><br>\n",
    "<span style=\"font-weight: 400\">0001 1110</span></td>\n",
    "</tr>\n",
    "<tr>\n",
    "<td><b>~</b></td>\n",
    "<td><span style=\"font-weight: 400\">Binary Complement</span></td>\n",
    "<td><span style=\"font-weight: 400\">If bit is 1 the make it 0 and if bit is 0 the make it 1</span></td>\n",
    "<td><span style=\"font-weight: 400\">~I</span><br>\n",
    "<span style=\"font-weight: 400\">1111 0101</span></td>\n",
    "</tr>\n",
    "<tr>\n",
    "<td><b>&lt;&lt;&nbsp;</b></td>\n",
    "<td><span style=\"font-weight: 400\">Binary Left Shift</span></td>\n",
    "<td><span style=\"font-weight: 400\">The left operand is moved left by the number of bits specified by the right operand.</span></td>\n",
    "<td><span style=\"font-weight: 400\">I &lt;&lt; 2 </span><br>\n",
    "<span style=\"font-weight: 400\">240</span><span style=\"font-weight: 400\"> i.e</span><span style=\"font-weight: 400\">. 1111 0000</span></td>\n",
    "</tr>\n",
    "<tr>\n",
    "<td><b>&gt;&gt;&nbsp;</b></td>\n",
    "<td><span style=\"font-weight: 400\">Binary Right Shift</span></td>\n",
    "<td><span style=\"font-weight: 400\">The left operand is moved right by the number of bits specified by the right operand.</span></td>\n",
    "<td><span style=\"font-weight: 400\">I &gt;&gt; 2 </span><br>\n",
    "<span style=\"font-weight: 400\">15</span><span style=\"font-weight: 400\"> i.e. </span><span style=\"font-weight: 400\">1111</span></td>\n",
    "</tr>\n",
    "</tbody>\n",
    "</table>\n",
    "</div>"
   ]
  },
  {
   "cell_type": "markdown",
   "metadata": {},
   "source": [
    "### Identity Operators\n",
    "These operators are used to compare the memory address of two objects.\n",
    "\n"
   ]
  },
  {
   "cell_type": "markdown",
   "metadata": {},
   "source": [
    "<div class=\"table-responsive\">\n",
    "<table class=\"table table-bordered\">\n",
    "<tbody>\n",
    "<tr>\n",
    "<td><b>Operator</b></td>\n",
    "<td><b>Description</b></td>\n",
    "<td><b>Example</b></td>\n",
    "</tr>\n",
    "<tr>\n",
    "<td><b>is</b></td>\n",
    "<td><span style=\"font-weight: 400\">It returns true if both operand‘s identity is same otherwise false</span></td>\n",
    "<td><span style=\"font-weight: 400\">I = 20</span><br>\n",
    "<span style=\"font-weight: 400\">J = 20</span><br>\n",
    "<span style=\"font-weight: 400\">if(I is J):</span><br>\n",
    "<span style=\"font-weight: 400\"> &nbsp;&nbsp;&nbsp;print (‘I and J have the same identity)</span><br>\n",
    "<span style=\"font-weight: 400\">else:</span><br>\n",
    "<span style=\"font-weight: 400\"> &nbsp;&nbsp;&nbsp;print (‘I and J have not same identity’)</span><br>\n",
    "<span style=\"font-weight: 400\">Output </span><span style=\"font-weight: 400\">– I and J have same identity</span></td>\n",
    "</tr>\n",
    "<tr>\n",
    "<td><b>is not</b></td>\n",
    "<td><span style=\"font-weight: 400\">It returns true if both operand‘s identity is not the same otherwise false</span></td>\n",
    "<td><span style=\"font-weight: 400\">I = 20</span><br>\n",
    "<span style=\"font-weight: 400\">J = 230</span><br>\n",
    "<span style=\"font-weight: 400\">if(I is not J):</span><br>\n",
    "<span style=\"font-weight: 400\"> &nbsp;&nbsp;&nbsp;print (‘I and J have not same identity’)</span><br>\n",
    "<span style=\"font-weight: 400\">else:</span><br>\n",
    "<span style=\"font-weight: 400\"> &nbsp;&nbsp;&nbsp;print (‘I and J have the same identity)</span><br>\n",
    "<span style=\"font-weight: 400\">Output</span><span style=\"font-weight: 400\"> – I and J have not same identity</span></td>\n",
    "</tr>\n",
    "</tbody>\n",
    "</table>\n",
    "</div>"
   ]
  }
 ],
 "metadata": {
  "interpreter": {
   "hash": "d2f21e9d89b41f10f94580d6ecf63853d93a7e67d3e26259bb38213332abb411"
  },
  "kernelspec": {
   "display_name": "Python 3.8.8 64-bit ('base': conda)",
   "language": "python",
   "name": "python3"
  },
  "language_info": {
   "codemirror_mode": {
    "name": "ipython",
    "version": 3
   },
   "file_extension": ".py",
   "mimetype": "text/x-python",
   "name": "python",
   "nbconvert_exporter": "python",
   "pygments_lexer": "ipython3",
   "version": "3.8.8"
  },
  "orig_nbformat": 4
 },
 "nbformat": 4,
 "nbformat_minor": 2
}
